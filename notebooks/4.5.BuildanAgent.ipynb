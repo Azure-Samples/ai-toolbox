{
 "cells": [
  {
   "cell_type": "markdown",
   "id": "2c5ee9ae",
   "metadata": {},
   "source": [
    "# Build an Agents system with AutoGen - Author/Reviewer Scenario\n",
    "\n",
    "## Setup\n",
    "\n",
    "### Install the required packages"
   ]
  },
  {
   "cell_type": "code",
   "execution_count": null,
   "id": "1f839ecc",
   "metadata": {},
   "outputs": [],
   "source": [
    "%pip install autogen-agentchat autogen-ext[openai] click"
   ]
  },
  {
   "cell_type": "markdown",
   "id": "d0949245",
   "metadata": {},
   "source": [
    "### Import the required packages"
   ]
  },
  {
   "cell_type": "markdown",
   "id": "b310f5f7",
   "metadata": {},
   "source": []
  },
  {
   "cell_type": "code",
   "execution_count": null,
   "id": "4db420bb",
   "metadata": {},
   "outputs": [],
   "source": [
    "import os\n",
    "\n",
    "import click\n",
    "from dotenv import load_dotenv\n",
    "\n",
    "from autogen_ext.models.openai import AzureOpenAIChatCompletionClient\n",
    "from autogen_agentchat.agents import AssistantAgent\n",
    "from autogen_agentchat.ui import Console\n",
    "from autogen_agentchat.teams import RoundRobinGroupChat\n",
    "from autogen_agentchat.conditions import TextMentionTermination"
   ]
  },
  {
   "cell_type": "markdown",
   "id": "1781bc92",
   "metadata": {},
   "source": [
    "### Load the environment variables"
   ]
  },
  {
   "cell_type": "code",
   "execution_count": null,
   "id": "19630d34",
   "metadata": {},
   "outputs": [],
   "source": [
    "load_dotenv()\n",
    "AZURE_OPENAI_ENDPOINT = os.getenv(\"AZURE_OPENAI_ENDPOINT\")\n",
    "AZURE_OPENAI_API_VERSION = os.getenv(\"AZURE_OPENAI_API_VERSION\")\n",
    "AZURE_OPENAI_API_KEY = os.getenv(\"AZURE_OPENAI_API_KEY\")\n",
    "MODEL = os.getenv(\"MODEL\", \"gpt-4.1\")"
   ]
  },
  {
   "cell_type": "code",
   "execution_count": null,
   "id": "7f613d12",
   "metadata": {},
   "outputs": [],
   "source": [
    "print(f\"Using endpoint: {AZURE_OPENAI_ENDPOINT}\")\n",
    "print(f\"Using API version: {AZURE_OPENAI_API_VERSION}\")\n",
    "print(f\"Using API key: {'*' * len(AZURE_OPENAI_API_KEY)}\")\n",
    "print(f\"Using model: {MODEL}\")\n"
   ]
  },
  {
   "cell_type": "markdown",
   "id": "b037c40d",
   "metadata": {},
   "source": [
    "### Create an OpenAI AutoGen client for Azure"
   ]
  },
  {
   "cell_type": "code",
   "execution_count": null,
   "id": "57a0c3a8",
   "metadata": {},
   "outputs": [],
   "source": [
    "def get_model_client():\n",
    "    return AzureOpenAIChatCompletionClient(\n",
    "            model=MODEL,\n",
    "            azure_endpoint=AZURE_OPENAI_ENDPOINT,\n",
    "            api_version=AZURE_OPENAI_API_VERSION,\n",
    "            api_key=AZURE_OPENAI_API_KEY,\n",
    "            temperature=0.1,\n",
    "        )\n",
    "    return instance"
   ]
  },
  {
   "cell_type": "markdown",
   "id": "4938d0cc",
   "metadata": {},
   "source": [
    "### Define the Agents and the conversation termination"
   ]
  },
  {
   "cell_type": "code",
   "execution_count": null,
   "id": "a33b7235",
   "metadata": {},
   "outputs": [],
   "source": [
    "WRITER_SYSTEM_MESSAGE = \"You are a AI techical document author. Write a concise document. If revising the document, write the full document with the revisions.\"\n",
    "REVIEWER_SYSTEM_MESSAGE = \"You are a AI technical document reviewer that can review technical documents. Make sure that your feedback includes edge scenarios if approprite for the topic. Respond with 'APPROVE' when your feedbacks are addressed.\"\n",
    "\n",
    "doc_writer = AssistantAgent(\n",
    "    \"doc_writer\",\n",
    "    model_client=get_model_client(),\n",
    "    system_message=WRITER_SYSTEM_MESSAGE,\n",
    ")\n",
    "\n",
    "# Create the critic agent.\n",
    "doc_reviewer = AssistantAgent(\n",
    "    \"doc_reviewer\",\n",
    "    model_client=get_model_client(),\n",
    "    system_message=REVIEWER_SYSTEM_MESSAGE,\n",
    ")\n",
    "\n",
    "# Define a termination condition that stops the task if the critic approves.\n",
    "text_termination = TextMentionTermination(\"APPROVE\")"
   ]
  },
  {
   "cell_type": "markdown",
   "id": "0f301332",
   "metadata": {},
   "source": [
    "### Configure the Agent conversation pattern"
   ]
  },
  {
   "cell_type": "code",
   "execution_count": null,
   "id": "eeb2a725",
   "metadata": {},
   "outputs": [],
   "source": [
    "team = RoundRobinGroupChat(\n",
    "    [doc_writer, doc_reviewer], termination_condition=text_termination)"
   ]
  },
  {
   "cell_type": "markdown",
   "id": "a3a073e6",
   "metadata": {},
   "source": [
    "### Author and review a technical document"
   ]
  },
  {
   "cell_type": "code",
   "execution_count": null,
   "id": "fdd6f7ba",
   "metadata": {},
   "outputs": [],
   "source": [
    "task = \"prompt engineering\"\n",
    "\n",
    "res = team.run_stream(task=task)\n",
    "# await Console(res)  # Stream the messages to the console.\n",
    "async for message in res:\n",
    "    # print(message)\n",
    "    if isinstance(message, str):\n",
    "        print(\"String message:\", message)\n",
    "    elif hasattr(message, \"content\"):\n",
    "        if hasattr(message, \"source\"):\n",
    "            # print(\"Message role:\", message.role)\n",
    "            click.echo(click.style(message.source +\n",
    "                        \"\\n\", fg='cyan', bold=True))\n",
    "        # print(\"Message content:\", message.content)\n",
    "        if message.source == \"doc_writer\":\n",
    "            click.echo(click.style(message.content + \"\\n\", fg=\"green\"))\n",
    "        else:\n",
    "            click.echo(click.style(message.content + \"\\n\", fg=\"yellow\"))\n",
    "    else:\n",
    "        # print(\"Other message type:\", message)\n",
    "        try:\n",
    "            msg = message.messages[-1]\n",
    "            # print(msg)\n",
    "            click.echo(click.style(msg.content + \"\\n\", fg=\"orange\"))\n",
    "        except Exception as e:\n",
    "            pass"
   ]
  }
 ],
 "metadata": {
  "kernelspec": {
   "display_name": ".venv (3.12.10)",
   "language": "python",
   "name": "python3"
  },
  "language_info": {
   "codemirror_mode": {
    "name": "ipython",
    "version": 3
   },
   "file_extension": ".py",
   "mimetype": "text/x-python",
   "name": "python",
   "nbconvert_exporter": "python",
   "pygments_lexer": "ipython3",
   "version": "3.12.10"
  }
 },
 "nbformat": 4,
 "nbformat_minor": 5
}
