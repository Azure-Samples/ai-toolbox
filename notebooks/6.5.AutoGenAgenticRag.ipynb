{
  "cells": [
    {
      "cell_type": "markdown",
      "metadata": {},
      "source": [
        "# Agentic RAG with AutoGen\n",
        "\n",
        "## Setup\n",
        "\n",
        "### Install Packages"
      ]
    },
    {
      "cell_type": "code",
      "execution_count": null,
      "metadata": {
        "id": "erZ39Ud2oLVL"
      },
      "outputs": [],
      "source": [
        "%pip install autogen-agentchat autogen-ext[openai] click"
      ]
    },
    {
      "cell_type": "markdown",
      "metadata": {},
      "source": [
        "### Import packages"
      ]
    },
    {
      "cell_type": "code",
      "execution_count": null,
      "metadata": {},
      "outputs": [],
      "source": [
        "import os\n",
        "from typing import List\n",
        "\n",
        "from dotenv import load_dotenv\n",
        "load_dotenv()  # Load environment variables from .env file\n",
        "from autogen_agentchat.agents import AssistantAgent\n",
        "from autogen_agentchat.ui import Console\n",
        "from autogen_core.memory import ListMemory, MemoryContent, MemoryMimeType\n",
        "from autogen_ext.models.openai import AzureOpenAIChatCompletionClient"
      ]
    },
    {
      "cell_type": "markdown",
      "metadata": {},
      "source": [
        "### Mock data"
      ]
    },
    {
      "cell_type": "code",
      "execution_count": null,
      "metadata": {},
      "outputs": [],
      "source": [
        "# Simulated Data Source 1: Product Catalog\n",
        "PRODUCT_CATALOG = {\n",
        "    \"laptop\": {\n",
        "        \"name\": \"UltraBook Pro\",\n",
        "        \"price\": \"$1299\",\n",
        "        \"specs\": \"16GB RAM, 512GB SSD, Intel i7\",\n",
        "        \"stock\": 15\n",
        "    },\n",
        "    \"phone\": {\n",
        "        \"name\": \"SmartPhone X\",\n",
        "        \"price\": \"$899\",\n",
        "        \"specs\": \"128GB Storage, 5G, OLED Display\",\n",
        "        \"stock\": 42\n",
        "    },\n",
        "    \"tablet\": {\n",
        "        \"name\": \"TabletMax\",\n",
        "        \"price\": \"$599\",\n",
        "        \"specs\": \"10-inch Display, 64GB Storage\",\n",
        "        \"stock\": 8\n",
        "    }\n",
        "}\n",
        "\n",
        "# Simulated Data Source 2: Customer Support KB\n",
        "SUPPORT_KB = {\n",
        "    \"shipping\": {\n",
        "        \"topic\": \"Shipping Information\",\n",
        "        \"info\": \"Standard shipping takes 3-5 business days. Express shipping is 1-2 days.\",\n",
        "        \"cost\": \"Standard: $5.99, Express: $15.99\"\n",
        "    },\n",
        "    \"returns\": {\n",
        "        \"topic\": \"Return Policy\",\n",
        "        \"info\": \"Returns accepted within 30 days of purchase with original packaging.\",\n",
        "        \"process\": \"Contact support with order number to initiate return.\"\n",
        "    },\n",
        "    \"warranty\": {\n",
        "        \"topic\": \"Warranty Coverage\",\n",
        "        \"info\": \"All products come with 1-year manufacturer warranty.\",\n",
        "        \"details\": \"Extended warranty available for purchase at checkout.\"\n",
        "    }\n",
        "}"
      ]
    },
    {
      "cell_type": "markdown",
      "metadata": {},
      "source": [
        "### Define the search functions"
      ]
    },
    {
      "cell_type": "code",
      "execution_count": null,
      "metadata": {},
      "outputs": [],
      "source": [
        "async def search_product_catalog(query: str) -> str:\n",
        "    \"\"\"\n",
        "    Search the product catalog for product information.\n",
        "    \n",
        "    Args:\n",
        "        query: Product search query (e.g., 'laptop', 'phone', 'tablet')\n",
        "    \n",
        "    Returns:\n",
        "        Product information as a formatted string\n",
        "    \"\"\"\n",
        "    query_lower = query.lower()\n",
        "    \n",
        "    # Simple keyword matching\n",
        "    for product_key, product_data in PRODUCT_CATALOG.items():\n",
        "        if product_key in query_lower or product_data[\"name\"].lower() in query_lower:\n",
        "            return (\n",
        "                f\"Product: {product_data['name']}\\n\"\n",
        "                f\"Price: {product_data['price']}\\n\"\n",
        "                f\"Specifications: {product_data['specs']}\\n\"\n",
        "                f\"In Stock: {product_data['stock']} units\"\n",
        "            )\n",
        "    \n",
        "    # Return all products if no specific match\n",
        "    results = []\n",
        "    for product_data in PRODUCT_CATALOG.values():\n",
        "        results.append(f\"- {product_data['name']}: {product_data['price']}\")\n",
        "    \n",
        "    return \"Available Products:\\n\" + \"\\n\".join(results)\n",
        "\n",
        "\n",
        "async def search_support_kb(query: str) -> str:\n",
        "    \"\"\"\n",
        "    Search the customer support knowledge base.\n",
        "    \n",
        "    Args:\n",
        "        query: Support query (e.g., 'shipping', 'returns', 'warranty')\n",
        "    \n",
        "    Returns:\n",
        "        Support information as a formatted string\n",
        "    \"\"\"\n",
        "    query_lower = query.lower()\n",
        "    \n",
        "    # Simple keyword matching\n",
        "    for kb_key, kb_data in SUPPORT_KB.items():\n",
        "        if kb_key in query_lower or any(word in query_lower for word in kb_data[\"topic\"].lower().split()):\n",
        "            result = f\"Topic: {kb_data['topic']}\\n\"\n",
        "            result += f\"Information: {kb_data['info']}\\n\"\n",
        "            \n",
        "            # Add optional fields if they exist\n",
        "            if \"cost\" in kb_data:\n",
        "                result += f\"Cost: {kb_data['cost']}\\n\"\n",
        "            if \"process\" in kb_data:\n",
        "                result += f\"Process: {kb_data['process']}\\n\"\n",
        "            if \"details\" in kb_data:\n",
        "                result += f\"Details: {kb_data['details']}\\n\"\n",
        "            \n",
        "            return result\n",
        "    \n",
        "    # Return all topics if no specific match\n",
        "    topics = [f\"- {kb_data['topic']}\" for kb_data in SUPPORT_KB.values()]\n",
        "    return \"Available Support Topics:\\n\" + \"\\n\".join(topics)\n",
        "\n",
        "\n"
      ]
    },
    {
      "cell_type": "markdown",
      "metadata": {},
      "source": [
        "### Define the Agent with LLM, Tools and Memory"
      ]
    },
    {
      "cell_type": "code",
      "execution_count": null,
      "metadata": {},
      "outputs": [],
      "source": [
        "# Initialize memory with context about the data sources\n",
        "agent_memory = ListMemory()\n",
        "\n",
        "# Add information about available data sources to memory\n",
        "await agent_memory.add(\n",
        "    MemoryContent(\n",
        "        content=(\n",
        "            \"You have access to two data sources:\\n\"\n",
        "            \"1. Product Catalog (search_product_catalog): Use this for product inquiries, \"\n",
        "            \"pricing, specifications, and inventory questions.\\n\"\n",
        "            \"2. Support Knowledge Base (search_support_kb): Use this for customer support \"\n",
        "            \"questions about shipping, returns, warranty, and policies.\"\n",
        "        ),\n",
        "        mime_type=MemoryMimeType.TEXT\n",
        "    )\n",
        ")\n",
        "\n",
        "await agent_memory.add(\n",
        "    MemoryContent(\n",
        "        content=(\n",
        "            \"Decision Guidelines:\\n\"\n",
        "            \"- For product-related questions (price, specs, stock): use search_product_catalog\\n\"\n",
        "            \"- For policy/support questions (shipping, returns, warranty): use search_support_kb\\n\"\n",
        "            \"- You can call both tools if the question requires information from both sources\"\n",
        "        ),\n",
        "        mime_type=MemoryMimeType.TEXT\n",
        "    )\n",
        ")\n",
        "\n",
        "# Create the model client\n",
        "model_client = AzureOpenAIChatCompletionClient(\n",
        "    model=os.getenv(\"AZURE_OPENAI_DEPLOYMENT\", \"gpt-4.1\"),\n",
        "    api_key=os.getenv(\"AZURE_OPENAI_API_KEY\"),\n",
        "    azure_endpoint=os.getenv(\"AZURE_OPENAI_ENDPOINT\"),\n",
        "    api_version=os.getenv(\"AZURE_OPENAI_API_VERSION\", \"2025-01-01-preview\")\n",
        ")\n",
        "\n",
        "# Create the assistant agent with both tools and memory\n",
        "assistant = AssistantAgent(\n",
        "    name=\"rag_assistant\",\n",
        "    model_client=model_client,\n",
        "    tools=[search_product_catalog, search_support_kb],\n",
        "    memory=[agent_memory],\n",
        "    system_message=(\n",
        "        \"You are a helpful shopping assistant. You have access to a product catalog \"\n",
        "        \"and a customer support knowledge base. Intelligently decide which data source(s) \"\n",
        "        \"to query based on the user's question. Provide clear and helpful responses.\"\n",
        "    )\n",
        ")"
      ]
    },
    {
      "cell_type": "markdown",
      "metadata": {},
      "source": [
        "### Test the Agentic RAG Agent"
      ]
    },
    {
      "cell_type": "code",
      "execution_count": null,
      "metadata": {},
      "outputs": [],
      "source": [
        "\"\"\"\n",
        "Main function to run the agentic RAG demo.\n",
        "\"\"\"\n",
        "print(\"=\" * 60)\n",
        "print(\"Agentic RAG Demo - Two Data Sources\")\n",
        "print(\"=\" * 60)\n",
        "print()\n",
        "\n",
        "# Test queries that require different data sources\n",
        "test_queries = [\n",
        "    \"What laptops do you have available?\",\n",
        "    \"What's your return policy?\",\n",
        "    \"How much does the phone cost and how long does shipping take?\"\n",
        "]\n",
        "\n",
        "print(\"Running test queries...\\n\")\n",
        "\n",
        "for query in test_queries:\n",
        "    print(f\"\\n{'=' * 60}\")\n",
        "    print(f\"Query: {query}\")\n",
        "    print('=' * 60)\n",
        "    \n",
        "    # Run the agent with the query\n",
        "    stream = assistant.run_stream(task=query)\n",
        "    await Console(stream)\n",
        "    \n",
        "    print()\n",
        "\n",
        "# Close the model client\n",
        "await model_client.close()\n",
        "\n",
        "print(\"\\n\" + \"=\" * 60)\n",
        "print(\"Demo completed successfully!\")\n",
        "print(\"=\" * 60)"
      ]
    }
  ],
  "metadata": {
    "colab": {
      "provenance": []
    },
    "kernelspec": {
      "display_name": ".venv (3.12.10)",
      "language": "python",
      "name": "python3"
    },
    "language_info": {
      "codemirror_mode": {
        "name": "ipython",
        "version": 3
      },
      "file_extension": ".py",
      "mimetype": "text/x-python",
      "name": "python",
      "nbconvert_exporter": "python",
      "pygments_lexer": "ipython3",
      "version": "3.12.10"
    }
  },
  "nbformat": 4,
  "nbformat_minor": 0
}
