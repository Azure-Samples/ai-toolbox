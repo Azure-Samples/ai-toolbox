{
 "cells": [
  {
   "cell_type": "markdown",
   "metadata": {},
   "source": [
    "# Vector embeddings with OpenAI\n",
    "\n",
    "## Overview\n",
    "\n",
    "\n",
    "\n",
    "## Setup"
   ]
  },
  {
   "cell_type": "code",
   "execution_count": null,
   "metadata": {},
   "outputs": [],
   "source": [
    "%pip install openai python-dotenv numpy pandas"
   ]
  },
  {
   "cell_type": "markdown",
   "metadata": {},
   "source": [
    "## Setup OpenAI API"
   ]
  },
  {
   "cell_type": "code",
   "execution_count": null,
   "metadata": {},
   "outputs": [],
   "source": [
    "import os\n",
    "\n",
    "\n",
    "from dotenv import load_dotenv\n",
    "import openai\n",
    "\n",
    "# Set up OpenAI client based on environment variables\n",
    "load_dotenv()\n",
    "AZURE_OPENAI_SERVICE = os.getenv(\"AZURE_OPENAI_ENDPOINT\")\n",
    "AZURE_OPENAI_ADA_DEPLOYMENT = os.getenv(\"AZURE_OPENAI_ADA_DEPLOYMENT\")\n",
    "AZURE_OPENAI_API_KEY = os.getenv(\"AZURE_OPENAI_API_KEY\")\n",
    "AZURE_OPENAI_API_VERSION = os.getenv(\"AZURE_OPENAI_API_VERSION\")\n",
    "\n",
    "# Use API key authentication for more reliable connection\n",
    "openai_client = openai.AzureOpenAI(\n",
    "    api_version=AZURE_OPENAI_API_VERSION,\n",
    "    azure_endpoint=AZURE_OPENAI_SERVICE,\n",
    "    api_key=AZURE_OPENAI_API_KEY\n",
    ")\n"
   ]
  },
  {
   "cell_type": "code",
   "execution_count": null,
   "metadata": {},
   "outputs": [],
   "source": [
    "print(AZURE_OPENAI_SERVICE)"
   ]
  },
  {
   "cell_type": "code",
   "execution_count": null,
   "metadata": {},
   "outputs": [],
   "source": [
    "print (os.getenv(\"AZURE_OPENAI_API_KEY\"))\n",
    "print (os.getenv(\"AZURE_OPENAI_ENDPOINT\"))\n",
    "print (os.getenv(\"AZURE_OPENAI_DEPLOYMENT_NAME\"))    \n",
    "print (os.getenv(\"AZURE_OPENAI_API_VERSION\"))\n",
    "print (os.getenv(\"AZURE_OPENAI_MODEL\"))\n",
    "print (os.getenv(\"AZURE_OPENAI_ADA_DEPLOYMENT\"))"
   ]
  },
  {
   "cell_type": "markdown",
   "metadata": {},
   "source": [
    "![vector1.jpeg](../Assets/images/vector1.jpeg)\n",
    "![vector2.png](../Assets/images/vector2.png)\n",
    "![vector3.png](../Assets/images/vector3.png)"
   ]
  },
  {
   "cell_type": "markdown",
   "metadata": {},
   "source": [
    "## Vector representations\n",
    "\n",
    "Demonstrates the fundamental concept of turning text into numbers that computers can understand and work with\n",
    "\n",
    "- We have a regular sentence that humans can read and understand  \n",
    "- Computers can't naturally understand the meaning of text – they need numbers\n",
    "- We send our sentence to OpenAI's embedding model\n",
    "- Think of this like a \"meaning translator\"\n",
    "- The AI reads the sentence and converts it into a mathematical representation\n",
    "- We get back a list of 1,536 numbers (called a vector)\n",
    "- These numbers capture the meaning of our sentence\n",
    "- It's like a \"fingerprint\" for the sentence's meaning\n",
    "\n",
    "It's like translating a sentence into a secret code of numbers that captures what the sentence means.\n"
   ]
  },
  {
   "cell_type": "code",
   "execution_count": null,
   "metadata": {},
   "outputs": [],
   "source": [
    "sentence = \"A dog just walked past my house and yipped yipped like a Martian\"\n",
    "\n",
    "response = openai_client.embeddings.create(model=AZURE_OPENAI_ADA_DEPLOYMENT, input=sentence)\n",
    "\n",
    "vector = response.data[0].embedding"
   ]
  },
  {
   "cell_type": "code",
   "execution_count": null,
   "metadata": {},
   "outputs": [],
   "source": [
    "vector"
   ]
  },
  {
   "cell_type": "code",
   "execution_count": null,
   "metadata": {},
   "outputs": [],
   "source": [
    "len(vector)"
   ]
  },
  {
   "cell_type": "markdown",
   "metadata": {},
   "source": [
    "### Document similarity modeled as cosine distance\n",
    "\n",
    "The cell shows how AI can measure how \"similar\" different sentences are in meaning, even when they use different words.\n",
    "\n",
    "1. Cosine Similarity Function\n",
    "- This calculates how \"similar\" two vectors are\n",
    "- Returns a score between -1 and 1 (closer to 1 = more similar)\n",
    "- Think of it like measuring the angle between two arrows in high-dimensional space\n",
    "\n",
    "2. Test Sentences\n",
    "- Three pairs to compare:\n",
    "- Pair 1: Identical sentences (should get perfect similarity)\n",
    "- Pair 2: Similar meaning, different words (should get high similarity)\n",
    "- Pair 3: Meaningful vs random text (should get low similarity)\n",
    "\n",
    "3. Convert Text to Vectors\n",
    "- Sends sentences to Azure OpenAI\n",
    "- Gets back high-dimensional vectors (1536 numbers) that represent the meaning\n",
    "- Each sentence becomes a list of numbers that captures its semantic meaning\n",
    "\n",
    "4. Compare and Display Results\n",
    "- Compares each pair of sentences\n",
    "- Shows the similarity score\n"
   ]
  },
  {
   "cell_type": "code",
   "execution_count": null,
   "metadata": {},
   "outputs": [],
   "source": [
    "import numpy as np\n",
    "import pandas as pd\n",
    "\n",
    "\n",
    "def cosine_similarity(a, b):\n",
    "    return np.dot(a, b) / (np.linalg.norm(a) * np.linalg.norm(b))\n",
    "\n",
    "sentences1 = ['The new movie is awesome',\n",
    "             'The new movie is awesome',\n",
    "             'The new movie is awesome']\n",
    "\n",
    "sentences2 = ['The new movie is awesome',\n",
    "              'This recent movie is so good',\n",
    "              'djkshsjdkhfsjdfkhsd']\n",
    "\n",
    "def get_embeddings(sentences):\n",
    "    embeddings_response = openai_client.embeddings.create(model=AZURE_OPENAI_ADA_DEPLOYMENT, input=sentences)\n",
    "    return [embedding_object.embedding for embedding_object in embeddings_response.data]\n",
    "\n",
    "embeddings1 = get_embeddings(sentences1)\n",
    "embeddings2 = get_embeddings(sentences2)\n",
    "\n",
    "for i in range(len(sentences1)):\n",
    "    print(f\"{sentences1[i]} \\t\\t {sentences2[i]} \\t\\t Score: {cosine_similarity(embeddings1[i], embeddings2[i]):.4f}\")"
   ]
  },
  {
   "cell_type": "markdown",
   "metadata": {},
   "source": [
    "### Vector search\n",
    "\n",
    "This file contains a collection of movie titles and their corresponding vector embeddings"
   ]
  },
  {
   "cell_type": "code",
   "execution_count": null,
   "metadata": {},
   "outputs": [],
   "source": [
    "import json\n",
    "\n",
    "# Load in vectors for movie titles\n",
    "with open('openai_movies.json') as json_file:\n",
    "    movie_vectors = json.load(json_file)"
   ]
  },
  {
   "cell_type": "markdown",
   "metadata": {},
   "source": [
    "### It's like building a smart movie search engine! \n",
    "\n",
    "1. User Types a Search Query\n",
    "- Someone searches for \"101 Dalmations\" (notice the misspelling!)\n",
    "- This is what a user might type into a search box\n",
    "\n",
    "2. Convert the Search into Numbers\n",
    "- Takes the search query and turns it into a vector (list of 1,536 numbers)\n",
    "- Now the computer can compare this search against the movie database\n",
    "\n",
    "3. Compare Against Every Movie\n",
    "- Goes through every movie in the database\n",
    "- Calculates how similar the search query is to each movie title\n",
    "- Creates a list of (movie_name, similarity_score) pairs\n",
    "\n",
    "4. Show the Best Matches"
   ]
  },
  {
   "cell_type": "code",
   "execution_count": null,
   "metadata": {},
   "outputs": [],
   "source": [
    "# Compute vector for query\n",
    "query = \"101 Dalmatians\"\n",
    "\n",
    "embeddings_response = openai_client.embeddings.create(model=AZURE_OPENAI_ADA_DEPLOYMENT, input=[query])\n",
    "vector = embeddings_response.data[0].embedding\n",
    "\n",
    "# Compute cosine similarity between query and each movie title\n",
    "scores = []\n",
    "for movie in movie_vectors:\n",
    "    scores.append((movie, cosine_similarity(vector, movie_vectors[movie])))\n",
    "\n",
    "# Display the top 10 results\n",
    "df = pd.DataFrame(scores, columns=['Movie', 'Score'])\n",
    "df = df.sort_values('Score', ascending=False)\n",
    "df.head(10)"
   ]
  }
 ],
 "metadata": {
  "kernelspec": {
   "display_name": ".venv (3.12.10)",
   "language": "python",
   "name": "python3"
  },
  "language_info": {
   "codemirror_mode": {
    "name": "ipython",
    "version": 3
   },
   "file_extension": ".py",
   "mimetype": "text/x-python",
   "name": "python",
   "nbconvert_exporter": "python",
   "pygments_lexer": "ipython3",
   "version": "3.12.10"
  },
  "orig_nbformat": 4
 },
 "nbformat": 4,
 "nbformat_minor": 2
}
